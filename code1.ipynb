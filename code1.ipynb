{
 "cells": [
  {
   "cell_type": "code",
   "execution_count": 5,
   "id": "35557069-7437-43d0-81ba-16b8c19ff01f",
   "metadata": {},
   "outputs": [],
   "source": [
    "import json\n",
    "\n",
    "def lambda_handler(event, context):\n",
    "    # Log the incoming event for debugging\n",
    "    print(\"Received event:\", json.dumps(event))\n",
    "\n",
    "    try:\n",
    "        if \"queryStringParameters\" in event and event[\"queryStringParameters\"] and \"celsius\" in event[\"queryStringParameters\"]:\n",
    "            celsius = float(event[\"queryStringParameters\"][\"celsius\"])\n",
    "            fahrenheit = (celsius * 9/5) + 32\n",
    "            return {\n",
    "                \"statusCode\": 200,\n",
    "                \"body\": f\"The temperature in Fahrenheit is {fahrenheit}\"\n",
    "            }\n",
    "        else:\n",
    "            return {\n",
    "                \"statusCode\": 400,\n",
    "                \"body\": \"Error: 'celsius' query parameter is missing\"\n",
    "            }\n",
    "    except Exception as e:\n",
    "        return {\n",
    "            \"statusCode\": 500,\n",
    "            \"body\": f\"Error: {str(e)}\"\n",
    "        }\n"
   ]
  },
  {
   "cell_type": "code",
   "execution_count": null,
   "id": "10d854f3-1155-4ff3-9351-ad87458007d9",
   "metadata": {},
   "outputs": [],
   "source": []
  },
  {
   "cell_type": "code",
   "execution_count": null,
   "id": "a0aa6d18-56e5-4832-bb8c-442f1090bc9e",
   "metadata": {},
   "outputs": [],
   "source": []
  },
  {
   "cell_type": "code",
   "execution_count": null,
   "id": "1abbb37b-b916-4ab3-af75-bd3d5d140500",
   "metadata": {},
   "outputs": [],
   "source": []
  }
 ],
 "metadata": {
  "kernelspec": {
   "display_name": "Python 3 (ipykernel)",
   "language": "python",
   "name": "python3"
  },
  "language_info": {
   "codemirror_mode": {
    "name": "ipython",
    "version": 3
   },
   "file_extension": ".py",
   "mimetype": "text/x-python",
   "name": "python",
   "nbconvert_exporter": "python",
   "pygments_lexer": "ipython3",
   "version": "3.11.5"
  }
 },
 "nbformat": 4,
 "nbformat_minor": 5
}
